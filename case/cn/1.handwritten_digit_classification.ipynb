{
 "cells": [
  {
   "attachments": {},
   "cell_type": "markdown",
   "metadata": {},
   "source": [
    "# 1.使用神经网络对手写数字做分类"
   ]
  },
  {
   "attachments": {},
   "cell_type": "markdown",
   "metadata": {},
   "source": [
    "## 1.Mnist数据集\n",
    "MNIST数据集改编自美国国家标准与技术研究所收集的NIST数据集。该数据集收集了来自250个不同人手写的数字图片，其中一半是人口普查局的工作人员，另一半是高中生。该数据集包括50000张训练集图片和10000张测试集图片，训练集和测试集都提供了正确答案。每张图片都是28×28=784大小的灰度图片，也就是一个28×28的矩阵，里面每个值是一个像素点，值在[0,1]之间，其中0表示白色，1表示黑色。"
   ]
  },
  {
   "attachments": {},
   "cell_type": "markdown",
   "metadata": {},
   "source": [
    "### 1.读取Mnist数据集\n",
    "pkl是python内置的一种格式，可以将python的各种数据结构序列化存储到磁盘中，需要时又可以读取并反序列化到内存中。mnist.pkl.gz做了两次操作，先pkl序列化，再gz压缩存储，所以要读取该文件，需要先解压再反序列化。"
   ]
  },
  {
   "cell_type": "code",
   "execution_count": 54,
   "metadata": {
    "collapsed": true
   },
   "outputs": [],
   "source": [
    "import pickle\n",
    "import gzip\n",
    "from pathlib import Path\n",
    "\n",
    "DATA_PATH = Path(\"../data\")\n",
    "PATH = DATA_PATH / \"mnist\"\n",
    "FILENAME = \"mnist.pkl.gz\"\n",
    "\n",
    "with gzip.open((PATH / FILENAME).as_posix(), \"rb\") as f:\n",
    "        ((x_train, y_train), (x_valid, y_valid), _) = pickle.load(f, encoding=\"latin-1\")"
   ]
  },
  {
   "cell_type": "code",
   "execution_count": 55,
   "metadata": {},
   "outputs": [
    {
     "name": "stdout",
     "output_type": "stream",
     "text": [
      "x_train:[[0. 0. 0. ... 0. 0. 0.]\n",
      " [0. 0. 0. ... 0. 0. 0.]\n",
      " [0. 0. 0. ... 0. 0. 0.]\n",
      " ...\n",
      " [0. 0. 0. ... 0. 0. 0.]\n",
      " [0. 0. 0. ... 0. 0. 0.]\n",
      " [0. 0. 0. ... 0. 0. 0.]]\n",
      "x_train.shape:(50000, 784)\n",
      "y_train:[5 0 4 ... 8 4 8]\n",
      "y_train.shape:(50000,)\n",
      "\n",
      "\n",
      "x_valid:[[0. 0. 0. ... 0. 0. 0.]\n",
      " [0. 0. 0. ... 0. 0. 0.]\n",
      " [0. 0. 0. ... 0. 0. 0.]\n",
      " ...\n",
      " [0. 0. 0. ... 0. 0. 0.]\n",
      " [0. 0. 0. ... 0. 0. 0.]\n",
      " [0. 0. 0. ... 0. 0. 0.]]\n",
      "x_valid.shape:(10000, 784)\n",
      "y_valid:[5 0 4 ... 8 4 8]\n",
      "y_valid.shape:(10000,)\n"
     ]
    }
   ],
   "source": [
    "# x_train训练样本，是一个50000×784的矩阵，表示有50000个训练样本，每个训练样本是一个784的一维数组，784就是把一张28×28的图片展开成的一维数组\n",
    "print(f\"x_train:{x_train}\")\n",
    "print(f\"x_train.shape:{x_train.shape}\") # shape获取 矩阵的维度属性\n",
    "# x_train训练样本对应的识别答案\n",
    "print(f\"y_train:{y_train}\")\n",
    "print(f\"y_train.shape:{y_train.shape}\")\n",
    "print(\"\\n\")\n",
    "print(f\"x_valid:{x_valid}\")\n",
    "print(f\"x_valid.shape:{x_valid.shape}\")\n",
    "print(f\"y_valid:{y_train}\") \n",
    "print(f\"y_valid.shape:{y_valid.shape}\")\n",
    "\n"
   ]
  },
  {
   "attachments": {},
   "cell_type": "markdown",
   "metadata": {},
   "source": [
    "### 2.使用matplotlib还原28*28矩阵对应的灰度图片"
   ]
  },
  {
   "cell_type": "code",
   "execution_count": 56,
   "metadata": {},
   "outputs": [
    {
     "name": "stdout",
     "output_type": "stream",
     "text": [
      "y_train[:6]:[5 0 4 1 9 2]\n"
     ]
    },
    {
     "data": {
      "image/png": "[encoded data removed]",
      "text/plain": [
       "<Figure size 2400x400 with 6 Axes>"
      ]
     },
     "metadata": {},
     "output_type": "display_data"
    }
   ],
   "source": [
    "import matplotlib.pyplot as plt\n",
    "\n",
    "# Plot the data\n",
    "fig, ax = plt.subplots(1, 6, figsize=(24, 4))\n",
    "\n",
    "for i in range(6):\n",
    "    ax[i].imshow(x_train[i].reshape((28, 28)), cmap='gray')\n",
    "    ax[i].set_title(f'x_train[{i}]')\n",
    "\n",
    "print(f'y_train[:6]:{y_train[:6]}')"
   ]
  },
  {
   "attachments": {},
   "cell_type": "markdown",
   "metadata": {},
   "source": [
    "## 2.将数据需转换成tensor以便后续建模训练\n",
    "Tensor是PyTorch中的基本数据类型，它是一个多维数组，可以用来表示向量、矩阵、甚至是更高维的数据。Tensor类似于Numpy中的数组，但是它可以在GPU上进行计算，从而加速计算过程。\n",
    "\n",
    "在PyTorch中，我们可以使用Tensor来构建神经网络。通过多层Tensor的组合和非线性变换，我们可以实现复杂的非线性映射关系，从而对数据进行分类、识别、聚类等操作。\n",
    "\n",
    "与Numpy中的数组类似，Tensor可以使用各种各样的操作进行计算，例如加法、乘法、矩阵乘法等。此外，PyTorch还提供了许多高级的操作，例如卷积、池化等等，可以方便地构建深度学习模型。\n"
   ]
  },
  {
   "cell_type": "code",
   "execution_count": 57,
   "metadata": {},
   "outputs": [
    {
     "name": "stdout",
     "output_type": "stream",
     "text": [
      "x_train转换tensor后的结构: tensor([[0., 0., 0.,  ..., 0., 0., 0.],\n",
      "        [0., 0., 0.,  ..., 0., 0., 0.],\n",
      "        [0., 0., 0.,  ..., 0., 0., 0.],\n",
      "        ...,\n",
      "        [0., 0., 0.,  ..., 0., 0., 0.],\n",
      "        [0., 0., 0.,  ..., 0., 0., 0.],\n",
      "        [0., 0., 0.,  ..., 0., 0., 0.]])\n",
      "torch.Size([50000, 784])\n",
      "y_train转换tensor后的结构: tensor([5, 0, 4,  ..., 8, 4, 8])\n",
      "torch.Size([50000])\n"
     ]
    }
   ],
   "source": [
    "import torch\n",
    "\n",
    "x_train, y_train, x_valid, y_valid = map(\n",
    "    torch.tensor, (x_train, y_train, x_valid, y_valid)\n",
    ")\n",
    "\n",
    "print(f\"x_train转换tensor后的结构: {x_train}\")\n",
    "print(x_train.shape)\n",
    "print(f\"y_train转换tensor后的结构: {y_train}\")\n",
    "print(y_train.shape)\n"
   ]
  },
  {
   "attachments": {},
   "cell_type": "markdown",
   "metadata": {},
   "source": [
    "## 3.创建模型\n",
    "1. FC = Wx+B：FC代表全连接层，表示输入向量x通过权重矩阵W进行线性变换，并加上偏差向量B，最终得到全连接层的输出。\n",
    "2. nn.Module：用于定义神经网络的层、激活函数、损失函数等组件，可以方便地构建自定义神经网络。每个nn.Module实例都有一个forward方法，用于定义数据在神经网络中的正向传播过程。通过继承nn.Module类并实现forward方法，我们可以构建自己的神经网络。\n",
    "3. nn.Linear：用于定义全连接层。它有两个参数`in_features`和`out_features`，分别表示输入特征的维度和输出特征的维度。通过实例化Linear，我们可以方便地构建全连接层，并将其作为神经网络的一部分来训练。\n",
    "4. dropout：在训练过程中随机丢弃一部分神经元的输出来减少过拟合，一般每个全连接层都要加一个dropout。\n",
    "5. F.relu：激活函数，负责将神经元的输入转换为输出。\n"
   ]
  },
  {
   "cell_type": "code",
   "execution_count": 67,
   "metadata": {},
   "outputs": [
    {
     "name": "stdout",
     "output_type": "stream",
     "text": [
      "参数名字:hidden1.weight, 参数矩阵的大小torch.Size([128, 784])\n",
      "参数名字:hidden1.bias, 参数矩阵的大小torch.Size([128])\n",
      "参数名字:hidden2.weight, 参数矩阵的大小torch.Size([256, 128])\n",
      "参数名字:hidden2.bias, 参数矩阵的大小torch.Size([256])\n",
      "参数名字:out.weight, 参数矩阵的大小torch.Size([10, 256])\n",
      "参数名字:out.bias, 参数矩阵的大小torch.Size([10])\n"
     ]
    }
   ],
   "source": [
    "from torch import nn\n",
    "import torch.nn.functional as F\n",
    "\n",
    "class Mnist_NN(nn.Module): # 继承nn.Module\n",
    "    def __init__(self):\n",
    "        super().__init__()\n",
    "\n",
    "        self.hidden1 = nn.Linear(784, 128) # 全连接层1  输入784个像素点 输出128个特征\n",
    "        self.hidden2 = nn.Linear(128, 256) # 全连接层2 输入128 输出256\n",
    "        self.dropout = nn.Dropout(0.5) # 随机杀死一半，防止过拟合\n",
    "        self.out = nn.Linear(256, 10) # 输出层  输入256 输出10个类别分别的概率\n",
    "\n",
    "    # 前向传播\n",
    "    def forward(self, x):\n",
    "        x = F.relu(self.hidden1(x))\n",
    "        x = self.dropout(x)\n",
    "        x = F.relu(self.hidden2(x))\n",
    "        x = self.dropout(x)\n",
    "        x = self.out(x)\n",
    "        return x\n",
    "\n",
    "# 打印参数  \n",
    "for name, parameter in Mnist_NN().named_parameters():\n",
    "    print(f\"参数名字:{name}, 参数矩阵的大小{parameter.size()}\")"
   ]
  },
  {
   "attachments": {},
   "cell_type": "markdown",
   "metadata": {},
   "source": [
    "## 4.打包数据：TensorDataset和DataLoader\n",
    "1. TensorDataset：是一个用于包装张量的类，可以将多个张量打包成一个数据集。例如，我们可以将训练数据和对应的标签打包成一个TensorDataset对象，便于后续的数据处理和模型训练。\n",
    "2. DataLoader：是一个用于加载数据的类，可以从TensorDataset对象中加载数据，并将其转换为可用于训练的批量数据。DataLoader类的实例可以指定批量大小、数据的采样方式、数据的并行加载方式等参数，可以方便地处理大规模数据集，并加速模型训练的过程。\n",
    "\n",
    "在PyTorch中，通常使用TensorDataset和DataLoader配合使用，以便在训练过程中高效地加载和处理数据。具体来说，我们可以先将数据和标签打包成一个TensorDataset对象，然后使用DataLoader类来加载数据，并在训练过程中逐批地处理数据。这样可以方便地处理大规模数据集，并加速模型训练的过程。"
   ]
  },
  {
   "cell_type": "code",
   "execution_count": 71,
   "metadata": {},
   "outputs": [
    {
     "name": "stdout",
     "output_type": "stream",
     "text": [
      "torch.Size([64, 784])\n",
      "torch.Size([64])\n"
     ]
    }
   ],
   "source": [
    "from torch.utils.data import TensorDataset\n",
    "from torch.utils.data import DataLoader\n",
    "\n",
    "bs = 64 # 每次迭代训练的样本数\n",
    "\n",
    "train_ds = TensorDataset(x_train, y_train)\n",
    "train_dl = DataLoader(train_ds, batch_size=bs, shuffle=True)\n",
    "\n",
    "valid_ds = TensorDataset(x_valid, y_valid)\n",
    "valid_dl = DataLoader(valid_ds, batch_size=bs * 2)\n",
    "\n",
    "def get_data(train_ds, valid_ds, bs):\n",
    "    return (\n",
    "        DataLoader(train_ds, batch_size=bs, shuffle=True),\n",
    "        DataLoader(valid_ds, batch_size=bs * 2),\n",
    "    )\n",
    "\n",
    "\n",
    "for xb, yb in train_dl:\n",
    "    print(xb.shape) # 把数据打包成64大小的包\n",
    "    print(yb.shape)\n",
    "    break"
   ]
  },
  {
   "attachments": {},
   "cell_type": "markdown",
   "metadata": {},
   "source": [
    "## 5. 训练\n",
    "优化器\n",
    "    1. optim.Adam：是一种常用的随机梯度下降算法，具有自适应学习率和动量的特点，可以在处理大规模数据集和高维参数空间时保持良好的性能。\n",
    "    2. optim.SGD：用于实现随机梯度下降优化算法。在SGD算法中，每次迭代时，我们随机选择一个样本或一批样本，并使用其梯度来更新模型的参数。通过使用随机梯度下降算法，我们可以逐渐优化模型的参数，并使其逼近最优解。"
   ]
  },
  {
   "cell_type": "code",
   "execution_count": 73,
   "metadata": {},
   "outputs": [
    {
     "name": "stdout",
     "output_type": "stream",
     "text": [
      "<zip object at 0x17fdf4580>\n",
      "[(1, 4), (2, 5), (3, 6)]\n",
      "(1, 2, 3)\n",
      "(4, 5, 6)\n"
     ]
    }
   ],
   "source": [
    "# zip用法\n",
    "a = [1, 2, 3]\n",
    "b = [4, 5, 6]\n",
    "# 打包\n",
    "zipped = zip(a, b)\n",
    "print(zipped)\n",
    "print(list(zipped)) \n",
    "\n",
    "a2, b2 = zip(*zip(a, b))\n",
    "print(a2)\n",
    "print(b2)"
   ]
  },
  {
   "cell_type": "code",
   "execution_count": 75,
   "metadata": {},
   "outputs": [
    {
     "name": "stdout",
     "output_type": "stream",
     "text": [
      "当前step:0 验证集损失：0.179599929356575\n",
      "当前step:1 验证集损失：0.14357417917847634\n",
      "当前step:2 验证集损失：0.1121580159522593\n",
      "当前step:3 验证集损失：0.11041146887615323\n",
      "当前step:4 验证集损失：0.10470686074495315\n",
      "当前step:5 验证集损失：0.09232247348800302\n",
      "当前step:6 验证集损失：0.08791804573275148\n",
      "当前step:7 验证集损失：0.08908505541421473\n",
      "当前step:8 验证集损失：0.08694947661794722\n",
      "当前step:9 验证集损失：0.08461290987851099\n",
      "当前step:10 验证集损失：0.08025028397841379\n",
      "当前step:11 验证集损失：0.08384536827770062\n",
      "当前step:12 验证集损失：0.08306083139716648\n",
      "当前step:13 验证集损失：0.08150999165521934\n",
      "当前step:14 验证集损失：0.07832407590104266\n",
      "当前step:15 验证集损失：0.0829694609716069\n",
      "当前step:16 验证集损失：0.08271845639846288\n",
      "当前step:17 验证集损失：0.08078263647994026\n",
      "当前step:18 验证集损失：0.08001423538625241\n",
      "当前step:19 验证集损失：0.07657623501101044\n",
      "当前step:20 验证集损失：0.07512948206283618\n",
      "当前step:21 验证集损失：0.07732897629848448\n",
      "当前step:22 验证集损失：0.07818380261892453\n",
      "当前step:23 验证集损失：0.07927688497276977\n",
      "当前step:24 验证集损失：0.08269603323438204\n",
      "当前step:25 验证集损失：0.07786302809547634\n",
      "当前step:26 验证集损失：0.07405140655671712\n",
      "当前step:27 验证集损失：0.07921352862792555\n",
      "当前step:28 验证集损失：0.07930595323287416\n",
      "当前step:29 验证集损失：0.07775191300954902\n"
     ]
    }
   ],
   "source": [
    "import numpy as np\n",
    "from torch import optim\n",
    "\n",
    "def get_model():\n",
    "    model = Mnist_NN()\n",
    "    # 返回模型和优化器，\n",
    "    return model, optim.Adam(model.parameters(), lr=0.001)\n",
    "\n",
    "def loss_batch(model, loss_func, xb, yb, opt=None):\n",
    "    # 计算损失\n",
    "    loss = loss_func(model(xb), yb) # model(xb) 预测值 yb 真实值\n",
    "\n",
    "    if opt is not None: # 更新模型参数\n",
    "        loss.backward() # 更新梯度\n",
    "        opt.step() # 更新\n",
    "        opt.zero_grad() # 单次更新完梯度置0 每次迭代独立去操作\n",
    "\n",
    "    return loss.item(), len(xb)\n",
    "\n",
    "# 训练\n",
    "def fit(steps, model, loss_func, opt, train_dl, valid_dl):\n",
    "    \"\"\"\n",
    "        steps 迭代多少次  \n",
    "        model 模型 \n",
    "        loss_func 损失函数 \n",
    "        opt 优化器\n",
    "        train_dl 训练打包器\n",
    "        valid_dl 验证打包器\n",
    "    \"\"\"\n",
    "    for step in range(steps):\n",
    "        model.train() # 训练, 更新每一层的w、b\n",
    "        for xb, yb in train_dl:\n",
    "            loss_batch(model, loss_func, xb, yb, opt)\n",
    "\n",
    "        model.eval() # 验证\n",
    "        with torch.no_grad():\n",
    "            losses, nums = zip(\n",
    "                *[loss_batch(model, loss_func, xb, yb) for xb, yb in valid_dl]\n",
    "            )\n",
    "        # 平均损失\n",
    "        val_loss = np.sum(np.multiply(losses, nums)) / np.sum(nums)\n",
    "        print('当前step:'+str(step), '验证集损失：'+str(val_loss))\n",
    "\n",
    "\n",
    "train_dl, valid_dl = get_data(train_ds, valid_ds, bs) # 数据\n",
    "model, opt = get_model() # 模型\n",
    "loss_func = F.cross_entropy # 损失函数 = 交叉熵\n",
    "fit(30, model, loss_func, opt, train_dl, valid_dl)"
   ]
  },
  {
   "cell_type": "code",
   "execution_count": 76,
   "metadata": {},
   "outputs": [
    {
     "name": "stdout",
     "output_type": "stream",
     "text": [
      "测试集准确率：97 %\n"
     ]
    }
   ],
   "source": [
    "# 计算准确率\n",
    "correct = 0\n",
    "total = 0\n",
    "for xb, yb in valid_dl:\n",
    "    outputs = model(xb)\n",
    "    _, predicted = torch.max(outputs.data, 1) # 最大值和索引\n",
    "    total += yb.size(0)\n",
    "    correct += (predicted == yb).sum().item()\n",
    "print(\"测试集准确率：%d %%\" % (100*correct/total))"
   ]
  }
 ],
 "metadata": {
  "kernelspec": {
   "display_name": "Python 3",
   "language": "python",
   "name": "python3"
  },
  "language_info": {
   "codemirror_mode": {
    "name": "ipython",
    "version": 3
   },
   "file_extension": ".py",
   "mimetype": "text/x-python",
   "name": "python",
   "nbconvert_exporter": "python",
   "pygments_lexer": "ipython3",
   "version": "3.10.6"
  }
 },
 "nbformat": 4,
 "nbformat_minor": 1
}
